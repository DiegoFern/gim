{
 "cells": [
  {
   "cell_type": "code",
   "execution_count": 52,
   "metadata": {},
   "outputs": [],
   "source": [
    "def f_(x):return 1\n",
    "a=534\n",
    "def f(x,s=1):\n",
    "    if x==0:\n",
    "        return s\n",
    "    return x+f(x-1)+f_+a\n",
    "def N(x):\n",
    "    return f+N\n",
    "from types import FunctionType\n",
    "def reconstruct(x,g=globals()):\n",
    "    return FunctionType(x.__code__,g,x.__name__,f.__defaults__,f.__closure__)\n",
    "import inspect,dis"
   ]
  },
  {
   "cell_type": "code",
   "execution_count": 12,
   "metadata": {},
   "outputs": [],
   "source": [
    "f.__kwdefaults__"
   ]
  },
  {
   "cell_type": "code",
   "execution_count": 79,
   "metadata": {},
   "outputs": [
    {
     "data": {
      "text/plain": [
       "{'f': {'f_': {}, 'a': {}}, 'N': {'f': {'f_': {}, 'a': {}}}}"
      ]
     },
     "execution_count": 79,
     "metadata": {},
     "output_type": "execute_result"
    }
   ],
   "source": [
    "bytecode = dis.Bytecode(f)\n",
    "list(bytecode)\n",
    "def get_globals(f,g=None,resume=None,_g=True):\n",
    "    if g is None:\n",
    "        g={}\n",
    "        resume=set()\n",
    "    #print(f)\n",
    "    if not inspect.isfunction(f):\n",
    "        return {}\n",
    "    lines_globals=filter(lambda x: x.opname=='LOAD_GLOBAL',\n",
    "                   dis.Bytecode(f))\n",
    "    args_globals=(\n",
    "        map(lambda x:x.argval,lines_globals\n",
    "            )\n",
    "    )\n",
    "    args_globals={a:(get_globals(eval(a),\n",
    "                                g=dict(g,**{a:eval(a)})\n",
    "                                ,resume=resume,_g=False) )\n",
    "                  for a in args_globals if a not in g }\n",
    "    resume.update(args_globals)\n",
    "    if not _g:\n",
    "        return args_globals\n",
    "    else:\n",
    "        return resume\n",
    "get_globals(N,_g=False)\n"
   ]
  }
 ],
 "metadata": {
  "kernelspec": {
   "display_name": "Python 3",
   "language": "python",
   "name": "python3"
  },
  "language_info": {
   "codemirror_mode": {
    "name": "ipython",
    "version": 3
   },
   "file_extension": ".py",
   "mimetype": "text/x-python",
   "name": "python",
   "nbconvert_exporter": "python",
   "pygments_lexer": "ipython3",
   "version": "3.7.0"
  }
 },
 "nbformat": 4,
 "nbformat_minor": 2
}
